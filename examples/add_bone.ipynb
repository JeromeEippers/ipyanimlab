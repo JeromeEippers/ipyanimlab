{
 "cells": [
  {
   "cell_type": "code",
   "execution_count": 1,
   "id": "1736343f-c9a8-49bb-b9c2-6811a854a4be",
   "metadata": {},
   "outputs": [],
   "source": [
    "import ipyanimlab as lab\n",
    "import numpy as np\n",
    "\n",
    "viewer = lab.Viewer(move_speed=5, width=1280, height=720)"
   ]
  },
  {
   "cell_type": "code",
   "execution_count": 2,
   "id": "26e148db-7893-407f-aad3-8db3c7cec50a",
   "metadata": {},
   "outputs": [],
   "source": [
    "character = viewer.import_usd_asset('AnimLabSimpleMale.usd')"
   ]
  },
  {
   "cell_type": "code",
   "execution_count": 3,
   "id": "fb2232a7-9938-4b2e-b484-ee6821cd4d1b",
   "metadata": {},
   "outputs": [],
   "source": [
    "character.add_bone('LeftHeel', np.array([1,0,0,0]), np.array([9.2,0,-12]), 'LeftFoot')\n",
    "character.add_bone('LeftBall', np.array([1,0,0,0]), np.array([14.5,0,8.22]), 'LeftFoot')\n",
    "character.add_bone('RightHeel', np.array([1,0,0,0]), np.array([-9.2,0,-12]), 'RightFoot')\n",
    "character.add_bone('RightBall', np.array([1,0,0,0]), np.array([-14.5,0,8.22]), 'RightFoot')\n",
    "\n",
    "contact_distance = np.linalg.norm(np.array([9.2,0,-12]) - np.array([14.5,0,8.22]))\n",
    "left_heel = character.bone_index('LeftHeel')\n",
    "left_ball = character.bone_index('LeftBall')\n",
    "right_heel = character.bone_index('RightHeel')\n",
    "right_ball = character.bone_index('RightBall')\n",
    "left_foot = character.bone_index('LeftFoot')\n",
    "right_foot = character.bone_index('RightFoot')\n",
    "\n",
    "contact_indices = np.asarray([left_heel, left_ball, right_heel, right_ball], dtype=np.int8)"
   ]
  },
  {
   "cell_type": "code",
   "execution_count": 4,
   "id": "574dde4b-df64-473f-8ee3-c312359e37b0",
   "metadata": {},
   "outputs": [
    {
     "data": {
      "text/plain": [
       "array([23, 24, 25, 26], dtype=int8)"
      ]
     },
     "execution_count": 4,
     "metadata": {},
     "output_type": "execute_result"
    }
   ],
   "source": [
    "contact_indices"
   ]
  },
  {
   "cell_type": "code",
   "execution_count": 5,
   "id": "3f6201a9-14d8-4016-b313-b55db691784d",
   "metadata": {},
   "outputs": [
    {
     "ename": "IndexError",
     "evalue": "index 23 is out of bounds for axis 0 with size 23",
     "output_type": "error",
     "traceback": [
      "\u001b[1;31m---------------------------------------------------------------------------\u001b[0m",
      "\u001b[1;31mIndexError\u001b[0m                                Traceback (most recent call last)",
      "Cell \u001b[1;32mIn[5], line 2\u001b[0m\n\u001b[0;32m      1\u001b[0m viewer\u001b[38;5;241m.\u001b[39mbegin_shadow()\n\u001b[1;32m----> 2\u001b[0m \u001b[43mviewer\u001b[49m\u001b[38;5;241;43m.\u001b[39;49m\u001b[43mdraw\u001b[49m\u001b[43m(\u001b[49m\u001b[43mcharacter\u001b[49m\u001b[43m)\u001b[49m\n\u001b[0;32m      3\u001b[0m viewer\u001b[38;5;241m.\u001b[39mend_shadow()\n\u001b[0;32m      5\u001b[0m viewer\u001b[38;5;241m.\u001b[39mbegin_display()\n",
      "File \u001b[1;32mE:\\github\\research\\ipyanimlab\\src\\ipyanimlab\\viewer.py:283\u001b[0m, in \u001b[0;36mViewer.draw\u001b[1;34m(self, asset, worlds, names, materials)\u001b[0m\n\u001b[0;32m    281\u001b[0m         worlds \u001b[38;5;241m=\u001b[39m worlds[np\u001b[38;5;241m.\u001b[39mnewaxis, \u001b[38;5;241m.\u001b[39m\u001b[38;5;241m.\u001b[39m\u001b[38;5;241m.\u001b[39m]\n\u001b[0;32m    282\u001b[0m \u001b[38;5;28;01melse\u001b[39;00m:\n\u001b[1;32m--> 283\u001b[0m     worlds \u001b[38;5;241m=\u001b[39m \u001b[43masset\u001b[49m\u001b[38;5;241;43m.\u001b[39;49m\u001b[43mskinning_bones\u001b[49m\u001b[43m(\u001b[49m\u001b[43mworlds\u001b[49m\u001b[43m,\u001b[49m\u001b[43m \u001b[49m\u001b[43mnames\u001b[49m\u001b[43m)\u001b[49m\n\u001b[0;32m    285\u001b[0m \u001b[38;5;28;01mif\u001b[39;00m \u001b[38;5;28mself\u001b[39m\u001b[38;5;241m.\u001b[39m_rendering_shadow:\n\u001b[0;32m    286\u001b[0m     \u001b[38;5;28mself\u001b[39m\u001b[38;5;241m.\u001b[39m_shadow\u001b[38;5;241m.\u001b[39mrender_mesh(\u001b[38;5;28mself\u001b[39m, asset\u001b[38;5;241m.\u001b[39m_mesh, \u001b[38;5;28mself\u001b[39m\u001b[38;5;241m.\u001b[39mlight_ortho_projection, worlds)\n",
      "File \u001b[1;32mE:\\github\\research\\ipyanimlab\\src\\ipyanimlab\\asset.py:188\u001b[0m, in \u001b[0;36mAsset.skinning_bones\u001b[1;34m(self, local_matrices, names)\u001b[0m\n\u001b[0;32m    186\u001b[0m \u001b[38;5;28mself\u001b[39m\u001b[38;5;241m.\u001b[39mworld_skeleton_xforms(local_matrices, names)\n\u001b[0;32m    187\u001b[0m \u001b[38;5;28;01mfor\u001b[39;00m i \u001b[38;5;129;01min\u001b[39;00m \u001b[38;5;28mrange\u001b[39m(\u001b[38;5;28mself\u001b[39m\u001b[38;5;241m.\u001b[39m_skeleton_xforms\u001b[38;5;241m.\u001b[39mshape[\u001b[38;5;241m0\u001b[39m]):\n\u001b[1;32m--> 188\u001b[0m     \u001b[38;5;28mself\u001b[39m\u001b[38;5;241m.\u001b[39m_scratch_skeleton_[i, :, :] \u001b[38;5;241m=\u001b[39m np\u001b[38;5;241m.\u001b[39mdot(\u001b[38;5;28mself\u001b[39m\u001b[38;5;241m.\u001b[39m_scratch_skeleton_[i], \u001b[38;5;28;43mself\u001b[39;49m\u001b[38;5;241;43m.\u001b[39;49m\u001b[43m_mesh\u001b[49m\u001b[38;5;241;43m.\u001b[39;49m\u001b[43mbindpose\u001b[49m\u001b[43m[\u001b[49m\u001b[43mi\u001b[49m\u001b[43m]\u001b[49m)\n\u001b[0;32m    190\u001b[0m \u001b[38;5;28;01mreturn\u001b[39;00m \u001b[38;5;28mself\u001b[39m\u001b[38;5;241m.\u001b[39m_scratch_skeleton_\n",
      "\u001b[1;31mIndexError\u001b[0m: index 23 is out of bounds for axis 0 with size 23"
     ]
    }
   ],
   "source": [
    "viewer.begin_shadow()\n",
    "viewer.draw(character)\n",
    "viewer.end_shadow()\n",
    "\n",
    "viewer.begin_display()\n",
    "viewer.draw_ground()\n",
    "viewer.draw(character)\n",
    "viewer.end_display()\n",
    "\n",
    "viewer.disable(depth_test=True)\n",
    "\n",
    "viewer.draw_axis(character.world_skeleton_xforms(), 5)\n",
    "viewer.draw_lines(character.world_skeleton_lines())\n",
    "\n",
    "viewer.execute_commands()\n",
    "viewer"
   ]
  }
 ],
 "metadata": {
  "kernelspec": {
   "display_name": "Python 3 (ipykernel)",
   "language": "python",
   "name": "python3"
  },
  "language_info": {
   "codemirror_mode": {
    "name": "ipython",
    "version": 3
   },
   "file_extension": ".py",
   "mimetype": "text/x-python",
   "name": "python",
   "nbconvert_exporter": "python",
   "pygments_lexer": "ipython3",
   "version": "3.10.10"
  }
 },
 "nbformat": 4,
 "nbformat_minor": 5
}
