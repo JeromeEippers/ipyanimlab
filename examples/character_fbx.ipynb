{
 "cells": [
  {
   "cell_type": "markdown",
   "id": "279e00c8-7a3f-4144-8e33-10e881ecc818",
   "metadata": {},
   "source": [
    "# Load a character\n",
    "Load a skinned mesh using fbx.\n",
    "\n",
    "For this you need to compile a compatible version of fbx for python."
   ]
  },
  {
   "cell_type": "code",
   "execution_count": 1,
   "id": "a7261748-5731-4a55-b04d-f88844a6c074",
   "metadata": {},
   "outputs": [],
   "source": [
    "import numpy as np\n",
    "from ipywidgets import widgets, interact, interactive\n",
    "\n",
    "import ipyanimlab as lab\n",
    "viewer = lab.Viewer(shadow_quality=lab.ShadowQuality.HIGH, move_speed=5, width=800, height=600)"
   ]
  },
  {
   "cell_type": "code",
   "execution_count": 2,
   "id": "0d93670e-a3a3-4a5f-b726-e43126670eb5",
   "metadata": {},
   "outputs": [],
   "source": [
    "character = viewer.import_fbx_asset('AnimLabSimpleMale.fbx')"
   ]
  },
  {
   "cell_type": "markdown",
   "id": "6996dc33-9ecc-4a15-ba81-44eb86a15fba",
   "metadata": {},
   "source": [
    "## Rename the bones\n",
    "As the fbx model has a namespace, we will remove it so we can load animation on this character"
   ]
  },
  {
   "cell_type": "code",
   "execution_count": 3,
   "id": "f7615ca4-dd10-438d-94a8-510b05e87b8b",
   "metadata": {},
   "outputs": [
    {
     "data": {
      "text/plain": [
       "['Root',\n",
       " 'Hips',\n",
       " 'Spine',\n",
       " 'Spine1',\n",
       " 'Spine2',\n",
       " 'Neck',\n",
       " 'Head',\n",
       " 'LeftShoulder',\n",
       " 'LeftArm',\n",
       " 'LeftForeArm',\n",
       " 'LeftHand',\n",
       " 'RightShoulder',\n",
       " 'RightArm',\n",
       " 'RightForeArm',\n",
       " 'RightHand',\n",
       " 'LeftUpLeg',\n",
       " 'LeftLeg',\n",
       " 'LeftFoot',\n",
       " 'LeftToe',\n",
       " 'RightUpLeg',\n",
       " 'RightLeg',\n",
       " 'RightFoot',\n",
       " 'RightToe']"
      ]
     },
     "execution_count": 3,
     "metadata": {},
     "output_type": "execute_result"
    }
   ],
   "source": [
    "for i in range(len(character.bone_names())):\n",
    "    character.bone_names()[i] = character.bone_names()[i].split(':')[-1]\n",
    "character.bone_names()"
   ]
  },
  {
   "cell_type": "code",
   "execution_count": 8,
   "id": "74cd1731-205e-4837-8942-dc6ef531a902",
   "metadata": {},
   "outputs": [
    {
     "data": {
      "application/vnd.jupyter.widget-view+json": {
       "model_id": "59c6e320f5de40c99a6a042921f7cac9",
       "version_major": 2,
       "version_minor": 0
      },
      "text/plain": [
       "Viewer(camera_far=2800.0, camera_near=20.0, camera_pitch=-14.599999999999989, camera_pos=[305.87545913922526, …"
      ]
     },
     "execution_count": 8,
     "metadata": {},
     "output_type": "execute_result"
    }
   ],
   "source": [
    "viewer.begin_shadow()\n",
    "# draw the character with bindpose\n",
    "viewer.draw(character)\n",
    "viewer.end_shadow()\n",
    "\n",
    "viewer.begin_display()\n",
    "# draw the default ground\n",
    "viewer.draw_ground()\n",
    "# draw the character with bindpose\n",
    "viewer.draw(character)\n",
    "viewer.end_display()\n",
    "\n",
    "# disable DEPTH_TEST so we can draw on top of the scene\n",
    "viewer.disable(depth_test=True)\n",
    "\n",
    "# draw XYZ axis for each bone of the character\n",
    "viewer.draw_axis(character.world_skeleton_xforms(), 5)\n",
    "# draw black lines between each joints\n",
    "viewer.draw_lines(character.world_skeleton_lines())\n",
    "\n",
    "viewer.execute_commands()\n",
    "viewer"
   ]
  },
  {
   "cell_type": "markdown",
   "id": "7f61c5d8-baf9-4341-a972-8922ddc7707a",
   "metadata": {},
   "source": [
    "## Load an animation"
   ]
  },
  {
   "cell_type": "code",
   "execution_count": 5,
   "id": "3f6d4e10-ef70-440e-bb51-212072cca83f",
   "metadata": {},
   "outputs": [],
   "source": [
    "animmap = lab.AnimMapper(character, root_motion=True, match_effectors=True)\n",
    "anim = lab.import_bvh('push1_subject2.bvh', anim_mapper=animmap)"
   ]
  },
  {
   "cell_type": "code",
   "execution_count": 6,
   "id": "cd26df4b-2d0e-4ef5-8a49-b4c8e3419ba1",
   "metadata": {},
   "outputs": [
    {
     "data": {
      "application/vnd.jupyter.widget-view+json": {
       "model_id": "bd998c216f774c139caed65ca2ad59f8",
       "version_major": 2,
       "version_minor": 0
      },
      "text/plain": [
       "interactive(children=(Timeline(value=0, children=(Play(value=0, description='play', interval=33, layout=Layout…"
      ]
     },
     "metadata": {},
     "output_type": "display_data"
    },
    {
     "data": {
      "application/vnd.jupyter.widget-view+json": {
       "model_id": "59c6e320f5de40c99a6a042921f7cac9",
       "version_major": 2,
       "version_minor": 0
      },
      "text/plain": [
       "Viewer(camera_far=2800.0, camera_near=20.0, camera_pitch=-18.0, camera_pos=[-370, 280, 350], camera_yaw=-45.0,…"
      ]
     },
     "execution_count": 6,
     "metadata": {},
     "output_type": "execute_result"
    }
   ],
   "source": [
    "def render(frame):\n",
    "    \n",
    "    p = (anim.pos[frame,...])\n",
    "    q = (anim.quats[frame,...])\n",
    "        \n",
    "    a = lab.utils.quat_to_mat(q, p)\n",
    "    viewer.set_shadow_poi(p[0])\n",
    "    \n",
    "    viewer.begin_shadow()\n",
    "    # render giving the computed pose this frame, and the bones names from the animation\n",
    "    viewer.draw(character, a, anim.bones)\n",
    "    viewer.end_shadow()\n",
    "    \n",
    "    viewer.begin_display()\n",
    "    viewer.draw_ground()\n",
    "    # render giving the computed pose this frame, and the bones names from the animation\n",
    "    viewer.draw(character, a, anim.bones)\n",
    "    viewer.end_display()\n",
    "\n",
    "    viewer.disable(depth_test=True)\n",
    "\n",
    "    # render giving the computed pose this frame, and the bones names from the animation\n",
    "    viewer.draw_axis(character.world_skeleton_xforms(a, anim.bones), 5)\n",
    "    # render giving the computed pose this frame, and the bones names from the animation\n",
    "    viewer.draw_lines(character.world_skeleton_lines(a, anim.bones))\n",
    "    \n",
    "    viewer.execute_commands()\n",
    "    \n",
    "interact(\n",
    "    render, \n",
    "    frame=lab.Timeline(max=anim.quats.shape[0]-1)\n",
    ")\n",
    "viewer"
   ]
  }
 ],
 "metadata": {
  "kernelspec": {
   "display_name": "Python 3 (ipykernel)",
   "language": "python",
   "name": "python3"
  },
  "language_info": {
   "codemirror_mode": {
    "name": "ipython",
    "version": 3
   },
   "file_extension": ".py",
   "mimetype": "text/x-python",
   "name": "python",
   "nbconvert_exporter": "python",
   "pygments_lexer": "ipython3",
   "version": "3.10.10"
  }
 },
 "nbformat": 4,
 "nbformat_minor": 5
}
